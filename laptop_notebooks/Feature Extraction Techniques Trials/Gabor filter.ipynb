{
 "cells": [
  {
   "cell_type": "markdown",
   "id": "2816890e",
   "metadata": {},
   "source": [
    "## Purpose of this notebook"
   ]
  },
  {
   "cell_type": "markdown",
   "id": "8c7e89b8",
   "metadata": {},
   "source": [
    "<font size=3> In this noteobook we have tested Gabor Filter on 30 fabric images of Cotton, Corduroy, Denim, Lenin and Wool. <br><br>\n",
    "The output in each case shows the original and the transformed images side by side.<br><br>\n",
    "This helps to visually determine which features of the image are captured by the Gabor Filters method."
   ]
  },
  {
   "cell_type": "code",
   "execution_count": 2,
   "id": "001a2cd3-adbc-480a-8442-3dfce3d4b726",
   "metadata": {},
   "outputs": [],
   "source": [
    "# Import Libararies\n",
    "import cv2\n",
    "import numpy as np\n",
    "import matplotlib.pyplot as plt\n",
    "import glob\n",
    "import os"
   ]
  },
  {
   "cell_type": "code",
   "execution_count": 4,
   "id": "c72e2f18",
   "metadata": {},
   "outputs": [],
   "source": [
    "def build_gabor_filters():\n",
    "    filters = []\n",
    "    ksize = 31  # Size of the filter\n",
    "    sigma = 4.0  # Standard deviation of the Gaussian envelope\n",
    "    lambd = 10.0  # Wavelength of the sinusoidal factor\n",
    "    gamma = 0.5  # Spatial aspect ratio\n",
    "    psi = 0  # Phase offset\n",
    "\n",
    "    # Define filters at 45 and 135 degrees\n",
    "    for theta in np.deg2rad([45, 135]):  # Convert degrees to radians\n",
    "        kern = cv2.getGaborKernel((ksize, ksize), sigma, theta, lambd, gamma, psi, ktype=cv2.CV_32F)\n",
    "        filters.append(kern)\n",
    "    return filters\n",
    "\n",
    "def process_image_with_gabor(image, filters):\n",
    "    responses = []\n",
    "    for kern in filters:\n",
    "        fimg = cv2.filter2D(image, cv2.CV_8UC3, kern)\n",
    "        responses.append(fimg)\n",
    "    return responses"
   ]
  },
  {
   "cell_type": "markdown",
   "id": "45425936-0cf1-485e-948c-ebf0d155b2d7",
   "metadata": {},
   "source": [
    "### 1. Cotton"
   ]
  },
  {
   "cell_type": "code",
   "execution_count": null,
   "id": "6402d041-a91e-4b95-b4bf-3aa67b8041f1",
   "metadata": {
    "scrolled": true
   },
   "outputs": [],
   "source": [
    "folder_path = \"E:\\\\Projects vijAI\\\\Fabric Detection\\\\Provided Content\\\\textures 3\\\\cotton\"\n",
    "image_files = glob.glob(os.path.join(folder_path, \"*.png\"))\n",
    "\n",
    "for count,image_name in enumerate(image_files[::4][:30],start=1):\n",
    "    if count==30:\n",
    "        break\n",
    "\n",
    "    # Load the image\n",
    "    image = cv2.imread(image_name, cv2.IMREAD_GRAYSCALE)\n",
    "    \n",
    "    # Build Gabor filters\n",
    "    gabor_filters = build_gabor_filters()\n",
    "    \n",
    "    # Process the image with Gabor filters\n",
    "    responses = process_image_with_gabor(image, gabor_filters)\n",
    "    \n",
    "    # Display the results\n",
    "    plt.figure(figsize=(10, 5))\n",
    "    plt.subplot(1, 3, 1)\n",
    "    plt.imshow(image, cmap='gray')\n",
    "    plt.title('Original Image')\n",
    "    \n",
    "    plt.subplot(1, 3, 2)\n",
    "    plt.imshow(responses[0], cmap='gray')\n",
    "    plt.title('45 Degree Filter')\n",
    "    \n",
    "    plt.subplot(1, 3, 3)\n",
    "    plt.imshow(responses[1], cmap='gray')\n",
    "    plt.title('135 Degree Filter')\n",
    "    \n",
    "    plt.show()\n"
   ]
  },
  {
   "cell_type": "markdown",
   "id": "2cb8264b-b3a4-4f12-86da-0c66eeec3c3d",
   "metadata": {},
   "source": [
    "### 2. Corduroy"
   ]
  },
  {
   "cell_type": "code",
   "execution_count": null,
   "id": "8e385b62-e9ce-4d91-a374-155699603333",
   "metadata": {
    "scrolled": true
   },
   "outputs": [],
   "source": [
    "folder_path = \"E:\\\\Projects vijAI\\\\Fabric Detection\\\\Provided Content\\\\textures 3\\\\corduroy\"\n",
    "image_files = glob.glob(os.path.join(folder_path, \"*.png\"))\n",
    "\n",
    "for count,image_name in enumerate(image_files[::4][:30],start=1):\n",
    "    if count==30:\n",
    "        break\n",
    "\n",
    "    # Load the image\n",
    "    image = cv2.imread(image_name, cv2.IMREAD_GRAYSCALE)\n",
    "    \n",
    "    # Build Gabor filters\n",
    "    gabor_filters = build_gabor_filters()\n",
    "    \n",
    "    # Process the image with Gabor filters\n",
    "    responses = process_image_with_gabor(image, gabor_filters)\n",
    "    \n",
    "    # Display the results\n",
    "    plt.figure(figsize=(10, 5))\n",
    "    plt.subplot(1, 3, 1)\n",
    "    plt.imshow(image, cmap='gray')\n",
    "    plt.title('Original Image')\n",
    "    \n",
    "    plt.subplot(1, 3, 2)\n",
    "    plt.imshow(responses[0], cmap='gray')\n",
    "    plt.title('45 Degree Filter')\n",
    "    \n",
    "    plt.subplot(1, 3, 3)\n",
    "    plt.imshow(responses[1], cmap='gray')\n",
    "    plt.title('135 Degree Filter')\n",
    "    \n",
    "    plt.show()\n"
   ]
  },
  {
   "cell_type": "markdown",
   "id": "7f0a3da4-476b-48a3-917b-6be842a75578",
   "metadata": {},
   "source": [
    "### 3. Denim"
   ]
  },
  {
   "cell_type": "code",
   "execution_count": null,
   "id": "87c74cef-88a5-4b2a-96cb-ce46b94ada3c",
   "metadata": {
    "scrolled": true
   },
   "outputs": [],
   "source": [
    "folder_path = \"E:\\\\Projects vijAI\\\\Fabric Detection\\\\Provided Content\\\\textures 3\\\\denim\"\n",
    "image_files = glob.glob(os.path.join(folder_path, \"*.png\"))\n",
    "\n",
    "for count,image_name in enumerate(image_files[::10][:30],start=1):\n",
    "    if count==30:\n",
    "        break\n",
    "\n",
    "    # Load the image\n",
    "    image = cv2.imread(image_name, cv2.IMREAD_GRAYSCALE)\n",
    "    \n",
    "    # Build Gabor filters\n",
    "    gabor_filters = build_gabor_filters()\n",
    "    \n",
    "    # Process the image with Gabor filters\n",
    "    responses = process_image_with_gabor(image, gabor_filters)\n",
    "    \n",
    "    # Display the results\n",
    "    plt.figure(figsize=(10, 5))\n",
    "    plt.subplot(1, 3, 1)\n",
    "    plt.imshow(image, cmap='gray')\n",
    "    plt.title('Original Image')\n",
    "    \n",
    "    plt.subplot(1, 3, 2)\n",
    "    plt.imshow(responses[0], cmap='gray')\n",
    "    plt.title('45 Degree Filter')\n",
    "    \n",
    "    plt.subplot(1, 3, 3)\n",
    "    plt.imshow(responses[1], cmap='gray')\n",
    "    plt.title('135 Degree Filter')\n",
    "    \n",
    "    plt.show()\n",
    "\n"
   ]
  },
  {
   "cell_type": "code",
   "execution_count": null,
   "id": "97f54af2",
   "metadata": {},
   "outputs": [],
   "source": [
    "folder_path = \"E:\\\\Projects vijAI\\\\Fabric Detection\\\\Provided Content\\\\textures 3\\\\denim\"\n",
    "image_files = glob.glob(os.path.join(folder_path, \"*.png\"))\n",
    "\n",
    "for count,image_name in enumerate(image_files,start=1):\n",
    "    if count==60:\n",
    "        break\n",
    "    if count>30:\n",
    "        # Load the image\n",
    "        image = cv2.imread(image_name, cv2.IMREAD_GRAYSCALE)\n",
    "        \n",
    "        # Build Gabor filters\n",
    "        gabor_filters = build_gabor_filters()\n",
    "        \n",
    "        # Process the image with Gabor filters\n",
    "        responses = process_image_with_gabor(image, gabor_filters)\n",
    "        \n",
    "        # Display the results\n",
    "        plt.figure(figsize=(10, 5))\n",
    "        plt.subplot(1, 3, 1)\n",
    "        plt.imshow(image, cmap='gray')\n",
    "        plt.title('Original Image')\n",
    "        \n",
    "        plt.subplot(1, 3, 2)\n",
    "        plt.imshow(responses[0], cmap='gray')\n",
    "        plt.title('45 Degree Filter')\n",
    "        \n",
    "        plt.subplot(1, 3, 3)\n",
    "        plt.imshow(responses[1], cmap='gray')\n",
    "        plt.title('135 Degree Filter')\n",
    "        \n",
    "        plt.show()\n",
    "\n"
   ]
  },
  {
   "cell_type": "markdown",
   "id": "c6a7753d-a2f4-46c8-bc95-f1b126c9179b",
   "metadata": {},
   "source": [
    "### 4. Lenin"
   ]
  },
  {
   "cell_type": "code",
   "execution_count": null,
   "id": "95e25be6-581d-4226-af8f-1adfa246ea28",
   "metadata": {},
   "outputs": [],
   "source": [
    "folder_path = \"E:\\\\Projects vijAI\\\\Fabric Detection\\\\Provided Content\\\\textures 3\\\\linin\"\n",
    "image_files = glob.glob(os.path.join(folder_path, \"*.png\"))\n",
    "\n",
    "for count,image_name in enumerate(image_files[::10][:30],start=1):\n",
    "    if count==30:\n",
    "        break\n",
    "\n",
    "    # Load the image\n",
    "    image = cv2.imread(image_name, cv2.IMREAD_GRAYSCALE)\n",
    "    \n",
    "    # Build Gabor filters\n",
    "    gabor_filters = build_gabor_filters()\n",
    "    \n",
    "    # Process the image with Gabor filters\n",
    "    responses = process_image_with_gabor(image, gabor_filters)\n",
    "    \n",
    "    # Display the results\n",
    "    plt.figure(figsize=(10, 5))\n",
    "    plt.subplot(1, 3, 1)\n",
    "    plt.imshow(image, cmap='gray')\n",
    "    plt.title('Original Image')\n",
    "    \n",
    "    plt.subplot(1, 3, 2)\n",
    "    plt.imshow(responses[0], cmap='gray')\n",
    "    plt.title('45 Degree Filter')\n",
    "    \n",
    "    plt.subplot(1, 3, 3)\n",
    "    plt.imshow(responses[1], cmap='gray')\n",
    "    plt.title('135 Degree Filter')\n",
    "    \n",
    "    plt.show()\n",
    "\n",
    "\n"
   ]
  },
  {
   "cell_type": "markdown",
   "id": "4cf32680",
   "metadata": {},
   "source": [
    "Printing images of denim from 101 to 160"
   ]
  },
  {
   "cell_type": "code",
   "execution_count": null,
   "id": "62a903fb",
   "metadata": {},
   "outputs": [],
   "source": [
    "folder_path = \"E:\\\\Projects vijAI\\\\Fabric Detection\\\\Provided Content\\\\textures 3\\\\denim\"\n",
    "image_files = glob.glob(os.path.join(folder_path, \"*.png\"))\n",
    "\n",
    "for count,image_name in enumerate(image_files,start=1):\n",
    "    if count==160:\n",
    "        break\n",
    "    if count>100:\n",
    "        # Load the image\n",
    "        image = cv2.imread(image_name, cv2.IMREAD_GRAYSCALE)\n",
    "        \n",
    "        # Build Gabor filters\n",
    "        gabor_filters = build_gabor_filters()\n",
    "        \n",
    "        # Process the image with Gabor filters\n",
    "        responses = process_image_with_gabor(image, gabor_filters)\n",
    "        \n",
    "        # Display the results\n",
    "        plt.figure(figsize=(10, 5))\n",
    "        plt.subplot(1, 3, 1)\n",
    "        plt.imshow(image, cmap='gray')\n",
    "        plt.title('Original Image')\n",
    "        \n",
    "        plt.subplot(1, 3, 2)\n",
    "        plt.imshow(responses[0], cmap='gray')\n",
    "        plt.title('45 Degree Filter')\n",
    "        \n",
    "        plt.subplot(1, 3, 3)\n",
    "        plt.imshow(responses[1], cmap='gray')\n",
    "        plt.title('135 Degree Filter')\n",
    "        \n",
    "        plt.show()"
   ]
  },
  {
   "cell_type": "markdown",
   "id": "6e4f57c9-3e2c-425e-bbba-2fc26e155351",
   "metadata": {},
   "source": [
    "### 5. Wool"
   ]
  },
  {
   "cell_type": "code",
   "execution_count": null,
   "id": "ba641707-22e5-412a-9cb2-50964e52fbd1",
   "metadata": {},
   "outputs": [],
   "source": [
    "folder_path = \"E:\\\\Projects vijAI\\\\Fabric Detection\\\\Provided Content\\\\textures 3\\\\wool\"\n",
    "image_files = glob.glob(os.path.join(folder_path, \"*.png\"))\n",
    "\n",
    "for count,image_name in enumerate(image_files[::10][:30],start=1):\n",
    "    if count==30:\n",
    "        break\n",
    "\n",
    "    # Load the image\n",
    "    image = cv2.imread(image_name, cv2.IMREAD_GRAYSCALE)\n",
    "    \n",
    "    # Build Gabor filters\n",
    "    gabor_filters = build_gabor_filters()\n",
    "    \n",
    "    # Process the image with Gabor filters\n",
    "    responses = process_image_with_gabor(image, gabor_filters)\n",
    "    \n",
    "    # Display the results\n",
    "    plt.figure(figsize=(10, 5))\n",
    "    plt.subplot(1, 3, 1)\n",
    "    plt.imshow(image, cmap='gray')\n",
    "    plt.title('Original Image')\n",
    "    \n",
    "    plt.subplot(1, 3, 2)\n",
    "    plt.imshow(responses[0], cmap='gray')\n",
    "    plt.title('45 Degree Filter')\n",
    "    \n",
    "    plt.subplot(1, 3, 3)\n",
    "    plt.imshow(responses[1], cmap='gray')\n",
    "    plt.title('135 Degree Filter')\n",
    "    \n",
    "    plt.show()\n"
   ]
  },
  {
   "cell_type": "markdown",
   "id": "c30c2b53",
   "metadata": {},
   "source": [
    "Printing the images after count=30 and count<=60"
   ]
  },
  {
   "cell_type": "code",
   "execution_count": null,
   "id": "456bfb7a",
   "metadata": {},
   "outputs": [],
   "source": [
    "for count,image_name in enumerate(image_files,start=1):\n",
    "    if count==60:\n",
    "        break\n",
    "    if count>30:\n",
    "        print(count,image_name)"
   ]
  },
  {
   "cell_type": "markdown",
   "id": "8798574f",
   "metadata": {},
   "source": [
    "Applying Gabor filter on wool images between 30 and 60"
   ]
  },
  {
   "cell_type": "code",
   "execution_count": null,
   "id": "a7735467-1fe2-4df5-99c5-c0c86ec30d46",
   "metadata": {},
   "outputs": [],
   "source": [
    "folder_path = \"E:\\\\Projects vijAI\\\\Fabric Detection\\\\Provided Content\\\\textures 3\\\\wool\"\n",
    "image_files = glob.glob(os.path.join(folder_path, \"*.png\"))\n",
    "\n",
    "for count,image_name in enumerate(image_files,start=1):\n",
    "    if count==60:\n",
    "        break\n",
    "    if count>30:\n",
    "        # Load the image\n",
    "        image = cv2.imread(image_name, cv2.IMREAD_GRAYSCALE)\n",
    "        \n",
    "        # Build Gabor filters\n",
    "        gabor_filters = build_gabor_filters()\n",
    "        \n",
    "        # Process the image with Gabor filters\n",
    "        responses = process_image_with_gabor(image, gabor_filters)\n",
    "        \n",
    "        # Display the results\n",
    "        plt.figure(figsize=(10, 5))\n",
    "        plt.subplot(1, 3, 1)\n",
    "        plt.imshow(image, cmap='gray')\n",
    "        plt.title('Original Image')\n",
    "        \n",
    "        plt.subplot(1, 3, 2)\n",
    "        plt.imshow(responses[0], cmap='gray')\n",
    "        plt.title('45 Degree Filter')\n",
    "        \n",
    "        plt.subplot(1, 3, 3)\n",
    "        plt.imshow(responses[1], cmap='gray')\n",
    "        plt.title('135 Degree Filter')\n",
    "        \n",
    "        plt.show()\n",
    "\n",
    "    def build_gabor_filters():\n",
    "        filters = []\n",
    "        ksize = 31  # Size of the filter\n",
    "        sigma = 4.0  # Standard deviation of the Gaussian envelope\n",
    "        lambd = 10.0  # Wavelength of the sinusoidal factor\n",
    "        gamma = 0.5  # Spatial aspect ratio\n",
    "        psi = 0  # Phase offset\n",
    "\n",
    "        # Define filters at 45 and 135 degrees\n",
    "        for theta in np.deg2rad([45, 135]):  # Convert degrees to radians\n",
    "            kern = cv2.getGaborKernel((ksize, ksize), sigma, theta, lambd, gamma, psi, ktype=cv2.CV_32F)\n",
    "            filters.append(kern)\n",
    "        return filters\n",
    "\n",
    "    def process_image_with_gabor(image, filters):\n",
    "        responses = []\n",
    "        for kern in filters:\n",
    "            fimg = cv2.filter2D(image, cv2.CV_8UC3, kern)\n",
    "            responses.append(fimg)\n",
    "        return responses\n",
    "\n"
   ]
  },
  {
   "cell_type": "code",
   "execution_count": null,
   "id": "6b08819b",
   "metadata": {},
   "outputs": [],
   "source": []
  }
 ],
 "metadata": {
  "kernelspec": {
   "display_name": "Python 3",
   "language": "python",
   "name": "python3"
  },
  "language_info": {
   "codemirror_mode": {
    "name": "ipython",
    "version": 3
   },
   "file_extension": ".py",
   "mimetype": "text/x-python",
   "name": "python",
   "nbconvert_exporter": "python",
   "pygments_lexer": "ipython3",
   "version": "3.12.7"
  }
 },
 "nbformat": 4,
 "nbformat_minor": 5
}
