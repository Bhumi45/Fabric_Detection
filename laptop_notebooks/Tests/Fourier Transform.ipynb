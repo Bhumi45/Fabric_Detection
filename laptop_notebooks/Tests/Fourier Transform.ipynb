{
 "cells": [
  {
   "cell_type": "code",
   "execution_count": null,
   "id": "f88ddfba-0c94-4132-8383-c7e6a3349c58",
   "metadata": {},
   "outputs": [],
   "source": [
    "import cv2\n",
    "import numpy as np\n",
    "import matplotlib.pyplot as plt\n",
    "\n",
    "# Load the image in grayscale\n",
    "image = cv2.imread('E:\\\\Projects vijAI\\\\Fabric Detection\\\\Provided Content\\\\textures 3\\\\corduroy\\\\42a-scale_2_im_12_col.png', cv2.IMREAD_GRAYSCALE)\n",
    "\n",
    "# Apply the 2D Fourier Transform\n",
    "f_transform = np.fft.fft2(image)\n",
    "\n",
    "# Shift the zero frequency component (DC component) to the center of the spectrum\n",
    "f_shift = np.fft.fftshift(f_transform)\n",
    "\n",
    "# Compute the magnitude spectrum (log scale for better visualization)\n",
    "magnitude_spectrum = 20 * np.log(np.abs(f_shift))\n",
    "\n",
    "# Plot the original image and its magnitude spectrum\n",
    "plt.figure(figsize=(12, 6))\n",
    "plt.subplot(1, 2, 1)\n",
    "plt.title('Original Image')\n",
    "plt.imshow(image, cmap='gray')\n",
    "\n",
    "plt.subplot(1, 2, 2)\n",
    "plt.title('Magnitude Spectrum (Log Scale)')\n",
    "plt.imshow(magnitude_spectrum, cmap='gray')\n",
    "\n",
    "plt.show()\n"
   ]
  },
  {
   "cell_type": "code",
   "execution_count": null,
   "id": "faf0dc55-1f3d-4118-8573-8a4e4242f4f7",
   "metadata": {},
   "outputs": [],
   "source": []
  }
 ],
 "metadata": {
  "kernelspec": {
   "display_name": "Python 3 (ipykernel)",
   "language": "python",
   "name": "python3"
  },
  "language_info": {
   "codemirror_mode": {
    "name": "ipython",
    "version": 3
   },
   "file_extension": ".py",
   "mimetype": "text/x-python",
   "name": "python",
   "nbconvert_exporter": "python",
   "pygments_lexer": "ipython3",
   "version": "3.11.8"
  }
 },
 "nbformat": 4,
 "nbformat_minor": 5
}
