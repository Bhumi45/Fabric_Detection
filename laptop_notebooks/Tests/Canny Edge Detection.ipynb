{
 "cells": [
  {
   "cell_type": "markdown",
   "id": "cab97611-eba9-4346-bd85-57404a7b8459",
   "metadata": {},
   "source": [
    "### Cotton"
   ]
  },
  {
   "cell_type": "code",
   "execution_count": null,
   "id": "dd402ad2-b5c8-4f7e-bb8f-eec27c2ecfd3",
   "metadata": {},
   "outputs": [],
   "source": [
    "import glob\n",
    "import os\n",
    "import cv2\n",
    "import matplotlib.pyplot as plt\n",
    "folder_path = \"E:\\\\Projects vijAI\\\\Fabric Detection\\\\Provided Content\\\\textures 3\\\\cotton\"\n",
    "image_files = glob.glob(os.path.join(folder_path, \"*.png\"))\n",
    "\n",
    "for count,image_name in enumerate(image_files,start=1):\n",
    "    if count==30:\n",
    "        break\n",
    "    # Load the image\n",
    "    image = cv2.imread(image_name, cv2.IMREAD_GRAYSCALE)\n",
    "    \n",
    "    # Step 1: Enhance contrast (optional)\n",
    "    equalized_image = cv2.equalizeHist(image)\n",
    "    \n",
    "    # Step 2: Apply Gaussian Blur to reduce noise\n",
    "    blurred_image = cv2.GaussianBlur(image, (3, 3), 1)\n",
    "    \n",
    "    # Step 3: Apply Canny Edge Detection with adjusted thresholds\n",
    "    edges = cv2.Canny(blurred_image, 30, 30)\n",
    "    \n",
    "    # Display the results\n",
    "    plt.figure(figsize=(10,5))\n",
    "    plt.subplot(1,2,1)\n",
    "    plt.title(f'Original {image_name[50:]}')\n",
    "    plt.imshow(image, cmap='gray')\n",
    "    \n",
    "    plt.subplot(1,2,2)\n",
    "    plt.title('Canny Edge Detection')\n",
    "    plt.imshow(edges, cmap='gray')\n",
    "    \n",
    "    plt.show()\n"
   ]
  },
  {
   "cell_type": "markdown",
   "id": "15d8124f-1c8b-4b55-a7d1-35237c2782a5",
   "metadata": {},
   "source": [
    "### Corduroy"
   ]
  },
  {
   "cell_type": "code",
   "execution_count": null,
   "id": "969c3c6a-f404-4e43-a55d-e1c8d2fd3ccd",
   "metadata": {},
   "outputs": [],
   "source": [
    "import glob\n",
    "import os\n",
    "folder_path = \"E:\\\\Projects vijAI\\\\Fabric Detection\\\\Provided Content\\\\textures 3\\\\corduroy\"\n",
    "image_files = glob.glob(os.path.join(folder_path, \"*.png\"))\n",
    "\n",
    "for count,image_name in enumerate(image_files):\n",
    "    if count==30:\n",
    "        break\n",
    "    # Load the image\n",
    "    image = cv2.imread(image_name, cv2.IMREAD_GRAYSCALE)\n",
    "    \n",
    "    # Step 1: Enhance contrast (optional)\n",
    "    equalized_image = cv2.equalizeHist(image)\n",
    "    \n",
    "    # Step 2: Apply Gaussian Blur to reduce noise\n",
    "    blurred_image = cv2.GaussianBlur(image, (3, 3), 1)\n",
    "    \n",
    "    # Step 3: Apply Canny Edge Detection with adjusted thresholds\n",
    "    edges = cv2.Canny(blurred_image, 30, 30)\n",
    "    \n",
    "    # Display the results\n",
    "    plt.figure(figsize=(10,5))\n",
    "    plt.subplot(1,2,1)\n",
    "    plt.title(f'Original {image_name[50:]}')\n",
    "    plt.imshow(image, cmap='gray')\n",
    "    \n",
    "    plt.subplot(1,2,2)\n",
    "    plt.title('Canny Edge Detection')\n",
    "    plt.imshow(edges, cmap='gray')\n",
    "    \n",
    "    plt.show()\n"
   ]
  },
  {
   "cell_type": "markdown",
   "id": "68a4bacf-e4d7-40f9-a721-6e6210c4588d",
   "metadata": {},
   "source": [
    "### Denim"
   ]
  },
  {
   "cell_type": "code",
   "execution_count": null,
   "id": "72460a93-12a5-4fe1-9a57-924eabe30da4",
   "metadata": {},
   "outputs": [],
   "source": [
    "import glob\n",
    "import os\n",
    "folder_path = \"E:\\\\Projects vijAI\\\\Fabric Detection\\\\Provided Content\\\\textures 3\\\\denim\"\n",
    "image_files = glob.glob(os.path.join(folder_path, \"*.png\"))\n",
    "\n",
    "for count,image_name in enumerate(image_files):\n",
    "    if count==30:\n",
    "        break\n",
    "    # Load the image\n",
    "    image = cv2.imread(image_name, cv2.IMREAD_GRAYSCALE)\n",
    "    \n",
    "    # Step 1: Enhance contrast (optional)\n",
    "    equalized_image = cv2.equalizeHist(image)\n",
    "    \n",
    "    # Step 2: Apply Gaussian Blur to reduce noise\n",
    "    blurred_image = cv2.GaussianBlur(image, (3, 3), 1)\n",
    "    \n",
    "    # Step 3: Apply Canny Edge Detection with adjusted thresholds\n",
    "    edges = cv2.Canny(blurred_image, 30, 30)\n",
    "    \n",
    "    # Display the results\n",
    "    plt.figure(figsize=(10,5))\n",
    "    plt.subplot(1,2,1)\n",
    "    plt.title(f'Original {image_name[50:]}')\n",
    "    plt.imshow(image, cmap='gray')\n",
    "    \n",
    "    plt.subplot(1,2,2)\n",
    "    plt.title('Canny Edge Detection')\n",
    "    plt.imshow(edges, cmap='gray')\n",
    "    \n",
    "    plt.show()\n"
   ]
  },
  {
   "cell_type": "markdown",
   "id": "44911749-8b76-49bc-ab6c-95b95fd5c7b5",
   "metadata": {},
   "source": [
    "### Lenin"
   ]
  },
  {
   "cell_type": "code",
   "execution_count": null,
   "id": "1022ad00-67a3-4de4-a800-231b6549c2eb",
   "metadata": {},
   "outputs": [],
   "source": [
    "import glob\n",
    "import os\n",
    "import cv2\n",
    "import matplotlib.pyplot as plt\n",
    "\n",
    "folder_path = \"E:\\\\Projects vijAI\\\\Fabric Detection\\\\Provided Content\\\\textures 3\\\\linin\"\n",
    "image_files = glob.glob(os.path.join(folder_path, \"*.jpg\"))\n",
    "\n",
    "for count,image_name in enumerate(image_files):\n",
    "    if count==30:\n",
    "        break\n",
    "    # Load the image\n",
    "    image = cv2.imread(image_name, cv2.IMREAD_GRAYSCALE)\n",
    "    \n",
    "    # Step 1: Enhance contrast (optional)\n",
    "    equalized_image = cv2.equalizeHist(image)\n",
    "    \n",
    "    # Step 2: Apply Gaussian Blur to reduce noise\n",
    "    blurred_image = cv2.GaussianBlur(image, (3, 3), 1)\n",
    "    \n",
    "    # Step 3: Apply Canny Edge Detection with adjusted thresholds\n",
    "    edges = cv2.Canny(blurred_image, 30, 30)\n",
    "    \n",
    "    # Display the results\n",
    "    plt.figure(figsize=(10,5))\n",
    "    plt.subplot(1,2,1)\n",
    "    plt.title(f'Original {image_name[50:]}')\n",
    "    plt.imshow(image, cmap='gray')\n",
    "    \n",
    "    plt.subplot(1,2,2)\n",
    "    plt.title('Canny Edge Detection')\n",
    "    plt.imshow(edges, cmap='gray')\n",
    "    \n",
    "    plt.show()\n"
   ]
  },
  {
   "cell_type": "markdown",
   "id": "a9b81d92-f906-49ec-b78b-2006a9edfb1b",
   "metadata": {},
   "source": [
    "### Wool"
   ]
  },
  {
   "cell_type": "code",
   "execution_count": null,
   "id": "c190768c-3ea7-4486-9e92-d7f3244f0c21",
   "metadata": {},
   "outputs": [],
   "source": [
    "import glob\n",
    "import os\n",
    "import cv2\n",
    "import matplotlib.pyplot as plt\n",
    "folder_path = \"E:\\\\Projects vijAI\\\\Fabric Detection\\\\Provided Content\\\\textures 3\\\\wool\"\n",
    "image_files = glob.glob(os.path.join(folder_path, \"*.png\"))\n",
    "\n",
    "for count,image_name in enumerate(image_files[::10][:30],start=1):\n",
    "    if count==30:\n",
    "        break\n",
    "    # Load the image\n",
    "    image = cv2.imread(image_name, cv2.IMREAD_GRAYSCALE)\n",
    "    \n",
    "    # Step 1: Enhance contrast (optional)\n",
    "    equalized_image = cv2.equalizeHist(image)\n",
    "    \n",
    "    # Step 2: Apply Gaussian Blur to reduce noise\n",
    "    blurred_image = cv2.GaussianBlur(image, (3, 3), 1)\n",
    "    \n",
    "    # Step 3: Apply Canny Edge Detection with adjusted thresholds\n",
    "    edges = cv2.Canny(blurred_image, 30, 30)\n",
    "    \n",
    "    # Display the results\n",
    "    plt.figure(figsize=(10,5))\n",
    "    plt.subplot(1,2,1)\n",
    "    plt.title(f'Original {image_name[50:]}')\n",
    "    plt.imshow(image, cmap='gray')\n",
    "    \n",
    "    plt.subplot(1,2,2)\n",
    "    plt.title('Canny Edge Detection')\n",
    "    plt.imshow(edges, cmap='gray')\n",
    "    \n",
    "    plt.show()\n"
   ]
  },
  {
   "cell_type": "code",
   "execution_count": null,
   "id": "1ea73ccb-548d-4fb7-bc79-d93303e1b0a2",
   "metadata": {},
   "outputs": [],
   "source": [
    "edges.shape"
   ]
  },
  {
   "cell_type": "code",
   "execution_count": null,
   "id": "fd403059",
   "metadata": {},
   "outputs": [],
   "source": [
    "edges[:,20]"
   ]
  },
  {
   "cell_type": "code",
   "execution_count": null,
   "id": "fd841097",
   "metadata": {},
   "outputs": [],
   "source": []
  }
 ],
 "metadata": {
  "kernelspec": {
   "display_name": "Python 3 (ipykernel)",
   "language": "python",
   "name": "python3"
  },
  "language_info": {
   "codemirror_mode": {
    "name": "ipython",
    "version": 3
   },
   "file_extension": ".py",
   "mimetype": "text/x-python",
   "name": "python",
   "nbconvert_exporter": "python",
   "pygments_lexer": "ipython3",
   "version": "3.11.9"
  }
 },
 "nbformat": 4,
 "nbformat_minor": 5
}
