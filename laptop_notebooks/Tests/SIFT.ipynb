{
 "cells": [
  {
   "cell_type": "code",
   "execution_count": null,
   "id": "5bbe9ac6-55e2-4f22-938e-6677105b7b6a",
   "metadata": {},
   "outputs": [],
   "source": [
    "pip install opencv-python opencv-contrib-python\n"
   ]
  },
  {
   "cell_type": "markdown",
   "id": "6aeb966d-e6d6-48a5-a46a-be1366a8df2f",
   "metadata": {},
   "source": [
    "### 2. Corduroy"
   ]
  },
  {
   "cell_type": "code",
   "execution_count": null,
   "id": "5457c90d-1d0c-4b45-b7b4-1e32f082b2fb",
   "metadata": {},
   "outputs": [],
   "source": [
    "import cv2\n",
    "import matplotlib.pyplot as plt\n",
    "import glob\n",
    "import os \n",
    "\n",
    "folder_path = \"E:\\\\Projects vijAI\\\\Fabric Detection\\\\Provided Content\\\\textures 3\\\\corduroy\"\n",
    "image_files = glob.glob(os.path.join(folder_path, \"*.png\"))\n",
    "\n",
    "for count,image_name in enumerate(image_files[::4][:30],start=1):\n",
    "    if count==30:\n",
    "        break\n",
    "    # Load the image in grayscale\n",
    "    image = cv2.imread(image_name, cv2.IMREAD_GRAYSCALE)\n",
    "    \n",
    "    # Initialize the SIFT detector\n",
    "    sift = cv2.SIFT_create()\n",
    "    \n",
    "    # Detect keypoints and compute descriptors\n",
    "    keypoints, descriptors = sift.detectAndCompute(image, None)\n",
    "    \n",
    "    # Draw keypoints on the image\n",
    "    image_with_keypoints = cv2.drawKeypoints(image, keypoints, None, flags=cv2.DRAW_MATCHES_FLAGS_DRAW_RICH_KEYPOINTS)\n",
    "    \n",
    "    # Display the image with keypoints\n",
    "    plt.figure(figsize=(10, 5))\n",
    "    plt.title('SIFT Keypoints')\n",
    "    plt.imshow(image_with_keypoints, cmap='gray')\n",
    "    plt.axis('off')\n",
    "    plt.show()\n"
   ]
  },
  {
   "cell_type": "markdown",
   "id": "ca2fa428-b808-4f3e-b5eb-520c36eade3b",
   "metadata": {},
   "source": [
    "### 3. Denim"
   ]
  },
  {
   "cell_type": "code",
   "execution_count": null,
   "id": "75798dac-35e8-489f-9c13-c30bb79d8602",
   "metadata": {},
   "outputs": [],
   "source": [
    "import cv2\n",
    "import matplotlib.pyplot as plt\n",
    "import glob\n",
    "import os \n",
    "\n",
    "folder_path = \"E:\\\\Projects vijAI\\\\Fabric Detection\\\\Provided Content\\\\textures 3\\\\denim\"\n",
    "image_files = glob.glob(os.path.join(folder_path, \"*.png\"))\n",
    "\n",
    "for count,image_name in enumerate(image_files[::4][:30],start=1):\n",
    "    if count==30:\n",
    "        break\n",
    "    # Load the image in grayscale\n",
    "    image = cv2.imread(image_name, cv2.IMREAD_GRAYSCALE)\n",
    "    \n",
    "    # Initialize the SIFT detector\n",
    "    sift = cv2.SIFT_create()\n",
    "    \n",
    "    # Detect keypoints and compute descriptors\n",
    "    keypoints, descriptors = sift.detectAndCompute(image, None)\n",
    "    \n",
    "    # Draw keypoints on the image\n",
    "    image_with_keypoints = cv2.drawKeypoints(image, keypoints, None, flags=cv2.DRAW_MATCHES_FLAGS_DRAW_RICH_KEYPOINTS)\n",
    "    \n",
    "    # Display the image with keypoints\n",
    "    plt.figure(figsize=(10, 5))\n",
    "    plt.title('SIFT Keypoints')\n",
    "    plt.imshow(image_with_keypoints, cmap='gray')\n",
    "    plt.axis('off')\n",
    "    plt.show()\n"
   ]
  },
  {
   "cell_type": "markdown",
   "id": "6b15c379-5b47-4a91-94a7-8d37e1d9381f",
   "metadata": {},
   "source": [
    "### 4. Lenin"
   ]
  },
  {
   "cell_type": "code",
   "execution_count": null,
   "id": "dc72b391-6e59-49a1-af45-9f0777d7fa76",
   "metadata": {},
   "outputs": [],
   "source": [
    "import cv2\n",
    "import matplotlib.pyplot as plt\n",
    "import glob\n",
    "import os \n",
    "\n",
    "folder_path = \"E:\\\\Projects vijAI\\\\Fabric Detection\\\\Provided Content\\\\textures 3\\\\linin\"\n",
    "image_files = glob.glob(os.path.join(folder_path, \"*.png\"))\n",
    "\n",
    "for count,image_name in enumerate(image_files[::4][:30],start=1):\n",
    "    if count==30:\n",
    "        break\n",
    "    # Load the image in grayscale\n",
    "    image = cv2.imread(image_name, cv2.IMREAD_GRAYSCALE)\n",
    "    \n",
    "    # Initialize the SIFT detector\n",
    "    sift = cv2.SIFT_create()\n",
    "    \n",
    "    # Detect keypoints and compute descriptors\n",
    "    keypoints, descriptors = sift.detectAndCompute(image, None)\n",
    "    \n",
    "    # Draw keypoints on the image\n",
    "    image_with_keypoints = cv2.drawKeypoints(image, keypoints, None, flags=cv2.DRAW_MATCHES_FLAGS_DRAW_RICH_KEYPOINTS)\n",
    "    \n",
    "    # Display the image with keypoints\n",
    "    plt.figure(figsize=(10, 5))\n",
    "    plt.title('SIFT Keypoints')\n",
    "    plt.imshow(image_with_keypoints, cmap='gray')\n",
    "    plt.axis('off')\n",
    "    plt.show()\n"
   ]
  },
  {
   "cell_type": "markdown",
   "id": "23d4f8cf-2721-4478-ad59-921a9e18a653",
   "metadata": {},
   "source": [
    "### 5. Wool"
   ]
  },
  {
   "cell_type": "code",
   "execution_count": null,
   "id": "857554d8-5a94-4a4d-aec3-f3bbe5fc852f",
   "metadata": {},
   "outputs": [],
   "source": [
    "import cv2\n",
    "import matplotlib.pyplot as plt\n",
    "import glob\n",
    "import os \n",
    "\n",
    "folder_path = \"E:\\\\Projects vijAI\\\\Fabric Detection\\\\Provided Content\\\\textures 3\\\\wool\"\n",
    "image_files = glob.glob(os.path.join(folder_path, \"*.png\"))\n",
    "\n",
    "for count,image_name in enumerate(image_files[::4][:30],start=1):\n",
    "    if count==30:\n",
    "        break\n",
    "    # Load the image in grayscale\n",
    "    image = cv2.imread(image_name, cv2.IMREAD_GRAYSCALE)\n",
    "    \n",
    "    # Initialize the SIFT detector\n",
    "    sift = cv2.SIFT_create()\n",
    "    \n",
    "    # Detect keypoints and compute descriptors\n",
    "    keypoints, descriptors = sift.detectAndCompute(image, None)\n",
    "    \n",
    "    # Draw keypoints on the image\n",
    "    image_with_keypoints = cv2.drawKeypoints(image, keypoints, None, flags=cv2.DRAW_MATCHES_FLAGS_DRAW_RICH_KEYPOINTS)\n",
    "    \n",
    "    # Display the image with keypoints\n",
    "    plt.figure(figsize=(10, 5))\n",
    "    plt.title('SIFT Keypoints')\n",
    "    plt.imshow(image_with_keypoints, cmap='gray')\n",
    "    plt.axis('off')\n",
    "    plt.show()\n"
   ]
  },
  {
   "cell_type": "markdown",
   "id": "538c5b74-a0cd-4fbd-be41-0982d28de98d",
   "metadata": {},
   "source": [
    "### Key-points Matching between two images"
   ]
  },
  {
   "cell_type": "code",
   "execution_count": null,
   "id": "6f68cee1-3913-437d-923b-cad46a1bd23f",
   "metadata": {},
   "outputs": [],
   "source": [
    "# Load two images for feature matching\n",
    "image1 = cv2.imread('E:\\\\Projects vijAI\\\\Fabric Detection\\\\Provided Content\\\\textures 3\\\\corduroy\\\\42a-scale_2_im_5_col.png', cv2.IMREAD_GRAYSCALE)\n",
    "image2 = cv2.imread('E:\\\\Projects vijAI\\\\Fabric Detection\\\\Provided Content\\\\textures 3\\\\linin\\\\44a-scale_2_im_4_col.png', cv2.IMREAD_GRAYSCALE)\n",
    "\n",
    "# Initialize the SIFT detector\n",
    "sift = cv2.SIFT_create()\n",
    "\n",
    "# Detect keypoints and compute descriptors for both images\n",
    "keypoints1, descriptors1 = sift.detectAndCompute(image1, None)\n",
    "keypoints2, descriptors2 = sift.detectAndCompute(image2, None)\n",
    "\n",
    "# Use BFMatcher to match descriptors\n",
    "bf = cv2.BFMatcher(cv2.NORM_L2, crossCheck=True)\n",
    "\n",
    "# Match descriptors from both images\n",
    "matches = bf.match(descriptors1, descriptors2)\n",
    "\n",
    "# Sort the matches based on their distance (lower distance is better)\n",
    "matches = sorted(matches, key=lambda x: x.distance)\n",
    "\n",
    "# Draw the first 50 matches\n",
    "image_matches = cv2.drawMatches(image1, keypoints1, image2, keypoints2, matches[:50], None, flags=cv2.DrawMatchesFlags_NOT_DRAW_SINGLE_POINTS)\n",
    "\n",
    "# Display the matched keypoints\n",
    "plt.figure(figsize=(15, 8))\n",
    "plt.title('SIFT Feature Matching')\n",
    "plt.imshow(image_matches)\n",
    "plt.axis('off')\n",
    "plt.show()\n"
   ]
  },
  {
   "cell_type": "code",
   "execution_count": null,
   "id": "df88b08a-a9b0-48bc-b976-43621b0f1388",
   "metadata": {},
   "outputs": [],
   "source": []
  },
  {
   "cell_type": "code",
   "execution_count": null,
   "id": "9b2e9a07-f57f-464e-9941-0ea6083155f6",
   "metadata": {},
   "outputs": [],
   "source": []
  },
  {
   "cell_type": "code",
   "execution_count": null,
   "id": "8bd97eb9-50ff-4f03-b84a-fa15595f0e17",
   "metadata": {},
   "outputs": [],
   "source": [
    "import cv2\n",
    "import matplotlib.pyplot as plt\n",
    "\n",
    "# Load the image in grayscale\n",
    "image = cv2.imread('E:\\\\Projects vijAI\\\\Fabric Detection\\\\Provided Content\\\\textures 3\\\\linin\\\\44a-scale_2_im_4_col.png', cv2.IMREAD_GRAYSCALE)\n",
    "\n",
    "# Initialize ORB detector\n",
    "orb = cv2.ORB_create()\n",
    "\n",
    "# Detect keypoints and compute descriptors\n",
    "keypoints, descriptors = orb.detectAndCompute(image, None)\n",
    "\n",
    "# Draw keypoints on the image\n",
    "image_with_keypoints = cv2.drawKeypoints(image, keypoints, None, flags=cv2.DRAW_MATCHES_FLAGS_DRAW_RICH_KEYPOINTS)\n",
    "\n",
    "# Display the image with keypoints\n",
    "plt.figure(figsize=(10, 5))\n",
    "plt.title('ORB Keypoints')\n",
    "plt.imshow(image_with_keypoints, cmap='gray')\n",
    "plt.axis('off')\n",
    "plt.show()\n",
    "\n",
    "\n"
   ]
  },
  {
   "cell_type": "code",
   "execution_count": null,
   "id": "01dc7b79-1fbb-4841-9af7-2f574f8dc026",
   "metadata": {},
   "outputs": [],
   "source": []
  }
 ],
 "metadata": {
  "kernelspec": {
   "display_name": "Python 3 (ipykernel)",
   "language": "python",
   "name": "python3"
  },
  "language_info": {
   "codemirror_mode": {
    "name": "ipython",
    "version": 3
   },
   "file_extension": ".py",
   "mimetype": "text/x-python",
   "name": "python",
   "nbconvert_exporter": "python",
   "pygments_lexer": "ipython3",
   "version": "3.11.8"
  }
 },
 "nbformat": 4,
 "nbformat_minor": 5
}
